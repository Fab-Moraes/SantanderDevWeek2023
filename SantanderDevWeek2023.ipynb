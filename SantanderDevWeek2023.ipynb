{
  "cells": [
    {
      "cell_type": "markdown",
      "metadata": {
        "id": "view-in-github",
        "colab_type": "text"
      },
      "source": [
        "<a href=\"https://colab.research.google.com/github/Fab-Moraes/SantanderDevWeek2023/blob/main/SantanderDevWeek2023.ipynb\" target=\"_parent\"><img src=\"https://colab.research.google.com/assets/colab-badge.svg\" alt=\"Open In Colab\"/></a>"
      ]
    },
    {
      "cell_type": "code",
      "source": [],
      "metadata": {
        "id": "_10W6XJgAPPF"
      },
      "execution_count": null,
      "outputs": []
    },
    {
      "cell_type": "markdown",
      "source": [
        "*DESAFIO EM ANDAMENTO*"
      ],
      "metadata": {
        "id": "Ubz6eKVW_uDJ"
      }
    },
    {
      "cell_type": "markdown",
      "source": [
        "\n",
        "**Explorando IA Generativa em um Pipeline de ETL com Python**"
      ],
      "metadata": {
        "id": "yfe0-khW8ZWH"
      }
    },
    {
      "cell_type": "markdown",
      "source": [
        "EXTRACT 👇🏼"
      ],
      "metadata": {
        "id": "16-qfSqaAB_v"
      }
    },
    {
      "cell_type": "code",
      "source": [
        "sdw2023_api_url = 'https://sdw-2023-prd.up.railway.app'"
      ],
      "metadata": {
        "id": "PRwtwmXz7AMZ"
      },
      "execution_count": 11,
      "outputs": []
    },
    {
      "cell_type": "code",
      "source": [
        "import pandas as pd\n",
        "\n",
        "df = pd.read_csv('SDW2023.csv')\n",
        "user_ids = df['UserID'].tolist()\n",
        "print(user_ids)"
      ],
      "metadata": {
        "colab": {
          "base_uri": "https://localhost:8080/"
        },
        "id": "P8WAjd0z3F1G",
        "outputId": "bc817609-d7ae-4c26-dbb8-09cf09f35ab4"
      },
      "execution_count": 12,
      "outputs": [
        {
          "output_type": "stream",
          "name": "stdout",
          "text": [
            "[4014, 4015, 4016]\n"
          ]
        }
      ]
    },
    {
      "cell_type": "markdown",
      "source": [],
      "metadata": {
        "id": "iMx-9q053Ggn"
      }
    },
    {
      "cell_type": "code",
      "source": [
        "import requests\n",
        "import json\n",
        "\n",
        "def get_user(id):\n",
        "  response = requests.get(f'{sdw2023_api_url}/users/{id}')\n",
        "  return response.json() if response.status_code == 200 else None\n",
        "\n",
        "users = [user for id in user_ids if (user := get_user(id))is not None]\n",
        "print(json.dumps(users, indent=2))\n"
      ],
      "metadata": {
        "id": "Q5CNw6_-6fZm",
        "colab": {
          "base_uri": "https://localhost:8080/"
        },
        "outputId": "fcf16443-711f-4130-f66a-10c9e9962249"
      },
      "execution_count": 13,
      "outputs": [
        {
          "output_type": "stream",
          "name": "stdout",
          "text": [
            "[\n",
            "  {\n",
            "    \"id\": 4014,\n",
            "    \"name\": \"Fabiano DioMOraes\",\n",
            "    \"account\": {\n",
            "      \"id\": 4243,\n",
            "      \"number\": \"020619-8\",\n",
            "      \"agency\": \"0220\",\n",
            "      \"balance\": 0.0,\n",
            "      \"limit\": 400.0\n",
            "    },\n",
            "    \"card\": {\n",
            "      \"id\": 3898,\n",
            "      \"number\": \"**** **** **** 0220\",\n",
            "      \"limit\": 2000.0\n",
            "    },\n",
            "    \"features\": [],\n",
            "    \"news\": []\n",
            "  },\n",
            "  {\n",
            "    \"id\": 4015,\n",
            "    \"name\": \"Santo Moraes\",\n",
            "    \"account\": {\n",
            "      \"id\": 4247,\n",
            "      \"number\": \"020617-8\",\n",
            "      \"agency\": \"0227\",\n",
            "      \"balance\": 0.0,\n",
            "      \"limit\": 400.0\n",
            "    },\n",
            "    \"card\": {\n",
            "      \"id\": 3899,\n",
            "      \"number\": \"**** **** **** 0240\",\n",
            "      \"limit\": 2000.0\n",
            "    },\n",
            "    \"features\": [],\n",
            "    \"news\": []\n",
            "  },\n",
            "  {\n",
            "    \"id\": 4016,\n",
            "    \"name\": \"Roberto Roberto\",\n",
            "    \"account\": {\n",
            "      \"id\": 4249,\n",
            "      \"number\": \"020615-8\",\n",
            "      \"agency\": \"0225\",\n",
            "      \"balance\": 0.0,\n",
            "      \"limit\": 500.0\n",
            "    },\n",
            "    \"card\": {\n",
            "      \"id\": 3900,\n",
            "      \"number\": \"**** **** **** 0244\",\n",
            "      \"limit\": 4000.0\n",
            "    },\n",
            "    \"features\": [],\n",
            "    \"news\": []\n",
            "  }\n",
            "]\n"
          ]
        }
      ]
    },
    {
      "cell_type": "code",
      "source": [],
      "metadata": {
        "id": "4Gp4tNEf69vQ"
      },
      "execution_count": null,
      "outputs": []
    }
  ],
  "metadata": {
    "colab": {
      "provenance": [],
      "include_colab_link": true
    },
    "kernelspec": {
      "display_name": "Python 3",
      "name": "python3"
    }
  },
  "nbformat": 4,
  "nbformat_minor": 0
}